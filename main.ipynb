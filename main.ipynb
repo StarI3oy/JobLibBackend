{
 "cells": [
  {
   "cell_type": "code",
   "execution_count": 3,
   "metadata": {},
   "outputs": [],
   "source": [
    "import pandas as pd\n",
    "import joblib\n",
    "import warnings\n",
    "from sklearn.metrics import mean_absolute_error\n",
    "warnings.filterwarnings(\"ignore\")"
   ]
  },
  {
   "cell_type": "markdown",
   "metadata": {},
   "source": [
    "КС 16\n",
    "Hours 48h\n",
    "Pmode оба"
   ]
  },
  {
   "cell_type": "code",
   "execution_count": 8,
   "metadata": {},
   "outputs": [],
   "source": [
    "pmode = \"Pin\"\n",
    "pmode = \"Pout\"\n",
    "hours = \"48h\"\n",
    "ks = \"16\"\n",
    "date = \"20.12.2021\""
   ]
  },
  {
   "cell_type": "code",
   "execution_count": 35,
   "metadata": {},
   "outputs": [],
   "source": [
    "# Load the model\n",
    "def predict(\n",
    "    ks: str,\n",
    "    pmode: str,\n",
    "    hours: str,\n",
    "    # date: str,\n",
    "):\n",
    "    model_path = f\"ModelsNewFix/{pmode}_lag_{hours}_КС-{ks}_LGBM_model.joblib\"\n",
    "    loaded_model = joblib.load(model_path)\n",
    "    # Load training and test data\n",
    "    train_path = f\"data/КС-{ks}_{pmode}_{hours[:-1]}_h.parquet\"\n",
    "    test_path = f\"data/КС-{ks}_{pmode}_{hours[:-1]}_h_new.parquet\"\n",
    "    train = pd.read_parquet(train_path)\n",
    "    test = pd.read_parquet(test_path)\n",
    "    # Filter test data by date\n",
    "    # test = test[test[\"DateTime\"].dt.strftime(\"%d.%m.%Y\") == date]\n",
    "    # if len(test) == 0:\n",
    "    #     test = train[train[\"DateTime\"].dt.strftime(\"%d.%m.%Y\") == date]\n",
    "    #     if len(test) == 0:\n",
    "    #         raise Exception(\"Error\")\n",
    "    # Prepare training data\n",
    "    X_train = train.drop(columns=[\"DateTime\", f\"{pmode}_target_shift_{hours[:-1]}h_{ks}\"])\n",
    "    y_train = train[f\"{pmode}_target_shift_{hours[:-1]}h_{ks}\"]\n",
    "    # Fit the model\n",
    "    loaded_model.fit(X_train, y_train)\n",
    "    # Prepare test data\n",
    "    X_test = test.drop(columns=[\"DateTime\", f\"{pmode}_target_shift_{hours[:-1]}h_КС{ks}\"])\n",
    "    # Create date index for the predictions\n",
    "    date_index = test[\"DateTime\"].apply(lambda x: x + pd.Timedelta(hours=int(hours[:-1])))\n",
    "    date_index = pd.to_datetime(date_index, errors=\"coerce\").dt.strftime(\"%Y-%m-%d %H:%M\")\n",
    "    # Make predictions\n",
    "    result = loaded_model.predict(X_test)\n",
    "    prediction = pd.concat(\n",
    "        [\n",
    "            date_index.reset_index(drop=True),\n",
    "            pd.DataFrame(result).apply(lambda x: round(x, 3)),\n",
    "        ],\n",
    "        axis=1,\n",
    "    ).rename(columns={0: \"Result\"})\n",
    "# Add additional fields\n",
    "# prediction[\"mode\"] = pmode\n",
    "# prediction[\"station\"] = ks\n",
    "# Save prediction to Excel\n",
    "    return prediction"
   ]
  },
  {
   "cell_type": "code",
   "execution_count": 20,
   "metadata": {},
   "outputs": [],
   "source": [
    "df = pd.read_csv(\"inspect/P_in_Plan_Fact.csv\", delimiter=\";\")\n",
    "df[\"Data\"] = pd.to_datetime(df[\"Data\"])"
   ]
  },
  {
   "cell_type": "code",
   "execution_count": 40,
   "metadata": {},
   "outputs": [],
   "source": [
    "big_dick = predict(\"16\",\"Pin\",\"48h\")\n",
    "big_dick[\"DateTime\"] = pd.to_datetime(big_dick[\"DateTime\"])"
   ]
  },
  {
   "cell_type": "code",
   "execution_count": 46,
   "metadata": {},
   "outputs": [],
   "source": [
    "from datetime import timedelta, datetime\n",
    "\n",
    "start_date = datetime.strptime('03.01.2021', '%d.%m.%Y')\n",
    "end_date = datetime.strptime('31.12.2023', '%d.%m.%Y')\n",
    "best_day = start_date\n",
    "best_score = 10000\n",
    "# Iterate over the range of dates\n",
    "current_date = start_date\n",
    "while current_date <= end_date:\n",
    "    try:\n",
    "        y_pred = big_dick[big_dick[\"DateTime\"].dt.strftime(\"%d.%m.%Y\") == current_date.strftime(\"%d.%m.%Y\")][\"Result\"]\n",
    "        # result[\"DateTime\"] = pd.to_datetime(result[\"DateTime\"])\n",
    "        # y_pred = result[result[\"DateTime\"].dt.strftime(\"%d.%m.%Y\") == current_date.strftime(\"%d.%m.%Y\")][\"Result\"]\n",
    "        # df[df[\"Data\"].dt.strftime(\"%d.%m.%Y %H:%M\") == (current_date + timedelta(hours=1)).strftime(\"%d.%m.%Y %H:%M\")][df[\"Object\"] == 1][\"P_Plan\"]\n",
    "        y_true = df[df[\"Data\"].dt.strftime(\"%d.%m.%Y\") == current_date.strftime(\"%d.%m.%Y\")][df[\"Object\"] == 2][\"P_Fact\"]\n",
    "        # y_true = df[df[\"Data\"].dt.strftime(\"%d.%m.%Y\") == current_date.strftime(\"%d.%m.%Y\")][df[\"Object\"] == 2][\"P_Plan\"]\n",
    "        mae_result = mean_absolute_error(y_true, y_pred)\n",
    "        if mae_result < best_score:\n",
    "            best_score = mae_result\n",
    "            best_day = current_date\n",
    "        current_date += timedelta(days=1)\n",
    "        # mae_result = mean_absolute_error(y_true, y_pred)\n",
    "    except:\n",
    "        continue\n",
    "print({\"mae\": best_score, \"best_day\":best_day, \"model\": y_pred, \"fact\": y_true})\n"
   ]
  },
  {
   "cell_type": "code",
   "execution_count": 32,
   "metadata": {},
   "outputs": [
    {
     "data": {
      "text/plain": [
       "0     47.587\n",
       "1     47.587\n",
       "2     46.316\n",
       "3     46.316\n",
       "4     46.291\n",
       "5     46.291\n",
       "6     45.761\n",
       "7     45.761\n",
       "8     46.187\n",
       "9     46.187\n",
       "10    46.337\n",
       "11    46.337\n",
       "12    46.742\n",
       "13    46.742\n",
       "14    46.882\n",
       "15    46.882\n",
       "16    46.825\n",
       "17    46.825\n",
       "18    47.340\n",
       "19    47.340\n",
       "20    47.338\n",
       "21    47.338\n",
       "22    47.338\n",
       "23    47.338\n",
       "Name: Result, dtype: float64"
      ]
     },
     "execution_count": 32,
     "metadata": {},
     "output_type": "execute_result"
    }
   ],
   "source": [
    "y_pred"
   ]
  },
  {
   "cell_type": "code",
   "execution_count": 33,
   "metadata": {},
   "outputs": [
    {
     "data": {
      "text/plain": [
       "26314   NaN\n",
       "26315   NaN\n",
       "26316   NaN\n",
       "26317   NaN\n",
       "26318   NaN\n",
       "26319   NaN\n",
       "26320   NaN\n",
       "26321   NaN\n",
       "26322   NaN\n",
       "26323   NaN\n",
       "26324   NaN\n",
       "26325   NaN\n",
       "26326   NaN\n",
       "26327   NaN\n",
       "26328   NaN\n",
       "26329   NaN\n",
       "26330   NaN\n",
       "26331   NaN\n",
       "26332   NaN\n",
       "26333   NaN\n",
       "26334   NaN\n",
       "26335   NaN\n",
       "26336   NaN\n",
       "26337   NaN\n",
       "Name: P_Plan, dtype: float64"
      ]
     },
     "execution_count": 33,
     "metadata": {},
     "output_type": "execute_result"
    }
   ],
   "source": [
    "y_true"
   ]
  },
  {
   "cell_type": "code",
   "execution_count": null,
   "metadata": {},
   "outputs": [],
   "source": [
    "best_score, best_day "
   ]
  },
  {
   "cell_type": "code",
   "execution_count": null,
   "metadata": {},
   "outputs": [],
   "source": [
    "import plotly #for plotting\n",
    "from plotly import graph_objects as go\n",
    "from plotly import express as px\n",
    "from plotly.subplots import make_subplots\n",
    "\n",
    "\n"
   ]
  },
  {
   "cell_type": "code",
   "execution_count": null,
   "metadata": {},
   "outputs": [],
   "source": [
    "y_pred = big_dick[big_dick[\"DateTime\"].dt.strftime(\"%d.%m.%Y\") == current_date.strftime(\"%d.%m.%Y\")][\"Result\"]\n",
    "        # result[\"DateTime\"] = pd.to_datetime(result[\"DateTime\"])\n",
    "        # y_pred = result[result[\"DateTime\"].dt.strftime(\"%d.%m.%Y\") == current_date.strftime(\"%d.%m.%Y\")][\"Result\"]\n",
    "        # df[df[\"Data\"].dt.strftime(\"%d.%m.%Y %H:%M\") == (current_date + timedelta(hours=1)).strftime(\"%d.%m.%Y %H:%M\")][df[\"Object\"] == 1][\"P_Plan\"]\n",
    "        y_true = df[df[\"Data\"].dt.strftime(\"%d.%m.%Y\") == current_date.strftime(\"%d.%m.%Y\")][df[\"Object\"] == 2][\"P_Fact\"]\n",
    "        # y_true = df[df[\"Data\"].dt.strftime(\"%d.%m.%Y\") == current_date.strftime(\"%d.%m.%Y\")][df[\"Object\"] == 2][\"P_Plan\"]\n",
    "        mae_result = mean_absolute_error(y_true, y_pred)\n",
    "        if mae_result < best_score:\n",
    "            best_score = mae_result\n",
    "            best_day = current_date\n",
    "        current_date += timedelta(days=1)"
   ]
  },
  {
   "cell_type": "code",
   "execution_count": null,
   "metadata": {},
   "outputs": [],
   "source": [
    "print({\"mae\": best_score, \"best_day\":best_day, \"model\": y_pred, \"fact\": y_true})"
   ]
  },
  {
   "cell_type": "code",
   "execution_count": null,
   "metadata": {},
   "outputs": [],
   "source": []
  },
  {
   "cell_type": "code",
   "execution_count": null,
   "metadata": {},
   "outputs": [],
   "source": [
    "fig = go.Figure()\n",
    "\n",
    "fig.add_trace(go.Scatter(x=df[\"Data\"], y=y_pred, name=\"Прогноз\"))\n",
    "\n",
    "fig.add_trace(go.Scatter(x=df[\"Data\"], y=y_plan_true, name=\"План\"))\n",
    "\n",
    "fig.add_trace(go.Scatter(x=df[\"Data\"], y=y_true, name=\"Факт\"))\n",
    "\n",
    "fig.update_layout(\n",
    "\n",
    "    title=dict(text=\"MAE Pin model= plan=\", font=dict(size=18), automargin=True, yref='paper')\n",
    "\n",
    ")\n",
    "\n",
    "fig.show()"
   ]
  },
  {
   "cell_type": "code",
   "execution_count": null,
   "metadata": {},
   "outputs": [],
   "source": [
    "def get_series_results_for_date(object_id:str,ks:str, pmode:str, hours:str, date_str: str):\n",
    "    \"\"\"\n",
    "    Params\n",
    "    ks - номер КС (15, 16, 17, 19 и тд)\n",
    "    pmode - Pin/Pout\n",
    "    hours - 48h, 72h, 96h\n",
    "    date_str - дата\n",
    "    \"\"\"\n",
    "    #* Открываем заготовленный план-факт\n",
    "    df = pd.read_csv(\"inspect/P_in_Plan_Fact.csv\", delimiter=\";\")\n",
    "    df[\"Data\"] = pd.to_datetime(df[\"Data\"])\n",
    "    date = datetime.strptime(date_str, \"%d.%m.%Y\")\n",
    "    result = predict(ks, pmode, hours, (date - timedelta(days=2)).strftime(\"%d.%m.%Y\"))\n",
    "    result[\"DateTime\"] = pd.to_datetime(result[\"DateTime\"])\n",
    "    y_pred = result[\n",
    "        result[\"DateTime\"].dt.strftime(\"%d.%m.%Y\") == date.strftime(\"%d.%m.%Y\")\n",
    "    ][\"Result\"]\n",
    "    # df[df[\"Data\"].dt.strftime(\"%d.%m.%Y %H:%M\") == (current_date + timedelta(hours=1)).strftime(\"%d.%m.%Y %H:%M\")][df[\"Object\"] == 1][\"P_Plan\"]\n",
    "    y_true = df[df[\"Data\"].dt.strftime(\"%d.%m.%Y\") == date.strftime(\"%d.%m.%Y\")][\n",
    "        df[\"Object\"] == 1\n",
    "    ][\"P_Fact\"]\n",
    "    mae_result = mean_absolute_error(y_true, y_pred)\n",
    "    return {\"mae\": mae_result, \"model\": y_pred, \"fact\": y_true}"
   ]
  },
  {
   "cell_type": "code",
   "execution_count": null,
   "metadata": {},
   "outputs": [],
   "source": [
    "get_series_results_for_date(\"1\",\"15\", \"Pin\", \"48h\", \"03.01.2021\")"
   ]
  },
  {
   "cell_type": "code",
   "execution_count": null,
   "metadata": {},
   "outputs": [],
   "source": [
    "def get_best_result(object_id:str,ks:str, pmode:str, hours:str, start_date: str, end_date: str):\n",
    "    \"\"\"\n",
    "    Params\n",
    "    ks - номер КС (15, 16, 17, 19 и тд)\n",
    "    pmode - Pin/Pout\n",
    "    hours - 48h, 72h, 96h\n",
    "    start_date - начальная дата 03.01.2021\n",
    "    end_date - конечная дата 21.01.2021\n",
    "    \"\"\"\n",
    "    # start_date = datetime.strptime('03.01.2021', '%d.%m.%Y')\n",
    "    # end_date = datetime.strptime('21.01.2021', '%d.%m.%Y')\n",
    "    best_day = start_date\n",
    "    best_score = 10000\n",
    "    # Iterate over the range of dates\n",
    "    try:\n",
    "        current_date = start_date\n",
    "        while current_date <= end_date:\n",
    "            df = pd.read_csv(\"inspect/P_in_Plan_Fact.csv\", delimiter=\";\")\n",
    "            df[\"Data\"] = pd.to_datetime(df[\"Data\"])\n",
    "            if mae_result < best_score:\n",
    "                    best_score = mae_result\n",
    "                    best_day = current_date\n",
    "            current_date += timedelta(days=1)\n",
    "    except Exception as e:\n",
    "        print(\"Ошибка в значениях: \",e)\n",
    "        print(\"Цикл завершен\")\n",
    "    return best_day, best_score\n"
   ]
  }
 ],
 "metadata": {
  "kernelspec": {
   "display_name": "Python 3",
   "language": "python",
   "name": "python3"
  },
  "language_info": {
   "codemirror_mode": {
    "name": "ipython",
    "version": 3
   },
   "file_extension": ".py",
   "mimetype": "text/x-python",
   "name": "python",
   "nbconvert_exporter": "python",
   "pygments_lexer": "ipython3",
   "version": "3.11.5"
  }
 },
 "nbformat": 4,
 "nbformat_minor": 2
}
